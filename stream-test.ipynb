{
 "cells": [
  {
   "cell_type": "markdown",
   "metadata": {},
   "source": [
    "## Set up a connection to the Twitter Dataset using mongo\n",
    "\n",
    "- First use the commandline to insert the JSON file into a mongodb collection\n",
    "\n",
    "### dependencies:\n",
    "\n",
    "- install pymongo\n",
    "- install botometer (pip install botometer)\n"
   ]
  },
  {
   "cell_type": "code",
   "execution_count": null,
   "metadata": {
    "collapsed": true
   },
   "outputs": [],
   "source": [
    "# intitialize mongodb collection\n",
    "\n",
    "from pymongo import MongoClient\n",
    "\n",
    "client = MongoClient('localhost', 27017)\n",
    "db = client['twitter_final']\n",
    "collection = db['tweets']\n"
   ]
  },
  {
   "cell_type": "code",
   "execution_count": 4,
   "metadata": {},
   "outputs": [
    {
     "data": {
      "text/plain": [
       "{'_id': ObjectId('5a9fc9c846856ba1140d9f78'),\n",
       " 'contributors': None,\n",
       " 'coordinates': None,\n",
       " 'created_at': 'Fri Aug 12 10:04:02 +0000 2016',\n",
       " 'entities': {'hashtags': [{'indices': [62, 72], 'text': 'NOJUSTICE'},\n",
       "   {'indices': [93, 104], 'text': 'TrumpPence'}],\n",
       "  'symbols': [],\n",
       "  'urls': [{'display_url': 'zerohedge.com/news/2016-08-1…',\n",
       "    'expanded_url': 'http://www.zerohedge.com/news/2016-08-11/justice-department-prevented-fbi-probe-clinton-foundation-reporters-slam-state-depar',\n",
       "    'indices': [107, 130],\n",
       "    'url': 'https://t.co/5GMNZq40V3'}],\n",
       "  'user_mentions': [{'id': 813286,\n",
       "    'id_str': '813286',\n",
       "    'indices': [0, 12],\n",
       "    'name': 'Barack Obama',\n",
       "    'screen_name': 'BarackObama'},\n",
       "   {'id': 17629860,\n",
       "    'id_str': '17629860',\n",
       "    'indices': [14, 18],\n",
       "    'name': 'FBI',\n",
       "    'screen_name': 'FBI'},\n",
       "   {'id': 3290070855,\n",
       "    'id_str': '3290070855',\n",
       "    'indices': [19, 32],\n",
       "    'name': 'AG Loretta Lynch',\n",
       "    'screen_name': 'LorettaLynch'},\n",
       "   {'id': 25073877,\n",
       "    'id_str': '25073877',\n",
       "    'indices': [75, 91],\n",
       "    'name': 'Donald J. Trump',\n",
       "    'screen_name': 'realDonaldTrump'}]},\n",
       " 'favorite_count': 0,\n",
       " 'favorited': False,\n",
       " 'filter_level': 'low',\n",
       " 'geo': None,\n",
       " 'id': 764039733076897792,\n",
       " 'id_str': '764039733076897792',\n",
       " 'in_reply_to_screen_name': 'BarackObama',\n",
       " 'in_reply_to_status_id': None,\n",
       " 'in_reply_to_status_id_str': None,\n",
       " 'in_reply_to_user_id': 813286,\n",
       " 'in_reply_to_user_id_str': '813286',\n",
       " 'is_quote_status': False,\n",
       " 'lang': 'en',\n",
       " 'place': {'attributes': {},\n",
       "  'bounding_box': {'coordinates': [[[-91.218994, 30.354161],\n",
       "     [-91.218994, 30.564039],\n",
       "     [-90.962605, 30.564039],\n",
       "     [-90.962605, 30.354161]]],\n",
       "   'type': 'Polygon'},\n",
       "  'country': 'United States',\n",
       "  'country_code': 'US',\n",
       "  'full_name': 'Baton Rouge, LA',\n",
       "  'id': 'c7ef5f3368b68777',\n",
       "  'name': 'Baton Rouge',\n",
       "  'place_type': 'city',\n",
       "  'url': 'https://api.twitter.com/1.1/geo/id/c7ef5f3368b68777.json'},\n",
       " 'possibly_sensitive': False,\n",
       " 'retweet_count': 0,\n",
       " 'retweeted': False,\n",
       " 'source': '<a href=\"http://twitter.com/download/android\" rel=\"nofollow\">Twitter for Android</a>',\n",
       " 'text': '@BarackObama \\n@FBI\\n@LORETTALYNCH \\nALL IN COLLUSION TOGETHER \\n\\n#NOJUSTICE \\n\\n@realDonaldTrump \\n#TrumpPence \\n\\nhttps://t.co/5GMNZq40V3',\n",
       " 'timestamp_ms': '1470996242194',\n",
       " 'truncated': False,\n",
       " 'user': {'contributors_enabled': False,\n",
       "  'created_at': 'Thu Oct 15 00:28:04 +0000 2009',\n",
       "  'default_profile': False,\n",
       "  'default_profile_image': False,\n",
       "  'description': 'AWSCWI Pipefitter USAF NRA I remember USA, Hunting Fishing, HarleyDavidsons- a time when we HS students could carry guns in our trks 2 school',\n",
       "  'favourites_count': 3850,\n",
       "  'follow_request_sent': None,\n",
       "  'followers_count': 531,\n",
       "  'following': None,\n",
       "  'friends_count': 677,\n",
       "  'geo_enabled': True,\n",
       "  'id': 82496193,\n",
       "  'id_str': '82496193',\n",
       "  'is_translator': False,\n",
       "  'lang': 'en',\n",
       "  'listed_count': 26,\n",
       "  'location': 'Ogletown, DE',\n",
       "  'name': 'Red Octopus',\n",
       "  'notifications': None,\n",
       "  'profile_background_color': '000000',\n",
       "  'profile_background_image_url': 'http://abs.twimg.com/images/themes/theme9/bg.gif',\n",
       "  'profile_background_image_url_https': 'https://abs.twimg.com/images/themes/theme9/bg.gif',\n",
       "  'profile_background_tile': False,\n",
       "  'profile_banner_url': 'https://pbs.twimg.com/profile_banners/82496193/1453903674',\n",
       "  'profile_image_url': 'http://pbs.twimg.com/profile_images/688374640360685568/xcSrhPsj_normal.jpg',\n",
       "  'profile_image_url_https': 'https://pbs.twimg.com/profile_images/688374640360685568/xcSrhPsj_normal.jpg',\n",
       "  'profile_link_color': '3B94D9',\n",
       "  'profile_sidebar_border_color': '000000',\n",
       "  'profile_sidebar_fill_color': '000000',\n",
       "  'profile_text_color': '000000',\n",
       "  'profile_use_background_image': False,\n",
       "  'protected': False,\n",
       "  'screen_name': 'redoctapus',\n",
       "  'statuses_count': 5046,\n",
       "  'time_zone': 'Eastern Time (US & Canada)',\n",
       "  'url': None,\n",
       "  'utc_offset': -14400,\n",
       "  'verified': False}}"
      ]
     },
     "execution_count": 4,
     "metadata": {},
     "output_type": "execute_result"
    }
   ],
   "source": [
    "# check whether a connection is established\n",
    "\n",
    "collection.find_one({})"
   ]
  },
  {
   "cell_type": "markdown",
   "metadata": {},
   "source": [
    "## Import botometer "
   ]
  },
  {
   "cell_type": "code",
   "execution_count": 3,
   "metadata": {},
   "outputs": [
    {
     "name": "stdout",
     "output_type": "stream",
     "text": [
      "{'categories': {'content': 0.86, 'friend': 0.64, 'network': 0.8675, 'sentiment': 0.84, 'temporal': 0.71, 'user': 0.54}, 'scores': {'english': 0.54, 'universal': 0.3}, 'user': {'id_str': '705033832861450240', 'screen_name': 'joraniedema'}}\n",
      "0:00:05.874700\n"
     ]
    }
   ],
   "source": [
    "import botometer\n",
    "from datetime import datetime\n",
    "\n",
    "# define private keys\n",
    "mashape_key = '94gxoZCBrHmshS8O6QIShO0cbcekp1z6CzGjsnUsmANTNpuFDd'\n",
    "twitter_app_auth = {\n",
    "    \"access_token\" : \"705033832861450240-wj5zOoLpr8n0PJxZalNm1FiDoJSV6WH\",\n",
    "    \"access_token_secret\" : \"ghwtXxnL41rtrk0aEWlZo5FfALOOyWxnaALq99eXTZBTg\",\n",
    "    \"consumer_key\" : \"P7KcLzLCfAylzDBQjOjekiqQS\",\n",
    "    \"consumer_secret\" : \"dFrCRENHCkRmO8VJ9mhWHTzZx9Ow8XfP5UHfi35tDHLfybMQ6k\"\n",
    "}\n",
    "\n",
    "bom = botometer.Botometer(wait_on_ratelimit=True,\n",
    "                          mashape_key=mashape_key,\n",
    "                          **twitter_app_auth)\n",
    "\n",
    "start = datetime.now()\n",
    "print(bom.check_account('@joraniedema'))\n",
    "print(datetime.now() - start)"
   ]
  },
  {
   "cell_type": "markdown",
   "metadata": {
    "collapsed": true
   },
   "source": [
    "## Set up simulated stream"
   ]
  },
  {
   "cell_type": "code",
   "execution_count": 31,
   "metadata": {},
   "outputs": [
    {
     "name": "stdout",
     "output_type": "stream",
     "text": [
      "{'categories': {'content': 0.46, 'friend': 0.28, 'network': 0.29, 'sentiment': 0.38, 'temporal': 0.14, 'user': 0.09}, 'scores': {'english': 0.33, 'universal': 0.32}, 'user': {'id_str': '82496193', 'screen_name': 'redoctapus'}}\n"
     ]
    }
   ],
   "source": [
    "cursor = collection.find({})\n",
    "\n",
    "# first attempt of similating a stream\n",
    "\n",
    "for tweet in cursor: \n",
    "    print(bom.check_account('@' + tweet['user']['screen_name'])) #.keys())\n",
    "    break\n",
    "\n",
    "    "
   ]
  },
  {
   "cell_type": "code",
   "execution_count": null,
   "metadata": {
    "collapsed": true
   },
   "outputs": [],
   "source": []
  }
 ],
 "metadata": {
  "kernelspec": {
   "display_name": "Python 3",
   "language": "python",
   "name": "python3"
  },
  "language_info": {
   "codemirror_mode": {
    "name": "ipython",
    "version": 3
   },
   "file_extension": ".py",
   "mimetype": "text/x-python",
   "name": "python",
   "nbconvert_exporter": "python",
   "pygments_lexer": "ipython3",
   "version": "3.6.2"
  }
 },
 "nbformat": 4,
 "nbformat_minor": 2
}
