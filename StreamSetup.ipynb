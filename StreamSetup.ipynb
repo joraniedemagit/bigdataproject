{
 "cells": [
  {
   "cell_type": "code",
   "execution_count": 66,
   "metadata": {},
   "outputs": [],
   "source": [
    "import json\n",
    "import numpy as np\n",
    "import pandas as pd\n",
    "from pprint import pprint\n",
    "from pymongo import MongoClient"
   ]
  },
  {
   "cell_type": "code",
   "execution_count": 33,
   "metadata": {},
   "outputs": [],
   "source": [
    "# Connect to DB\n",
    "\n",
    "client = MongoClient('localhost', 27017)\n",
    "\n",
    "db = client['twitter']\n",
    "\n",
    "collection = db['twitter']\n",
    "\n",
    "collection.find_one({})"
   ]
  },
  {
   "cell_type": "code",
   "execution_count": null,
   "metadata": {
    "collapsed": true
   },
   "outputs": [],
   "source": [
    "selected_features = ['followers_count', 'friends_count', 'listedcount', 'favourites_count',\n",
    "       'verified', 'statuses_count', 'default_profile',\n",
    "       'default_profile_image', 'bot',\n",
    "       'retweet_count', 'fav_count', 'total_usrmention',\n",
    "       'desc_length', 'name_length', 'screennamebot', 'namebot', 'descbot']"
   ]
  },
  {
   "cell_type": "code",
   "execution_count": 39,
   "metadata": {},
   "outputs": [],
   "source": [
    "# Store tweets in DB\n",
    "\n",
    "def process_tweet(tweet):\n",
    "    processed_tweet = {}\n",
    "    \n",
    "    processed_tweet['followers_count'] = tweet['user']['followers_count']\n",
    "    processed_tweet['friends_count'] = tweet['user']['friends_count']\n",
    "    processed_tweet['listed_count'] = tweet['user']['listed_count']\n",
    "    processed_tweet['favourites_count'] = tweet['user']['favourites_count']\n",
    "    processed_tweet['verified'] = tweet['user']['verified']\n",
    "    processed_tweet['statuses_count'] = tweet['user']['statuses_count']\n",
    "    processed_tweet['default_profile'] = tweet['user']['default_profile']\n",
    "    processed_tweet['default_profile_image'] = tweet['user']['default_profile_image']\n",
    "    processed_tweet['retweet_count'] = tweet['retweet_count']\n",
    "    processed_tweet['fav_count'] = tweet['favorite_count']\n",
    "    processed_tweet['total_usrmention'] = len(tweet['entities']['user_mentions'])\n",
    "    processed_tweet['name_length'] = len(tweet['user']['name'])\n",
    "    \n",
    "    if tweet['user']['description'] is None:\n",
    "        processed_tweet['desc_length'] = 0\n",
    "    else:\n",
    "        processed_tweet['desc_length'] = len(tweet['user']['description'])\n",
    "    \n",
    "    return processed_tweet\n",
    "\n",
    "# with open('tweets.jsons', 'r') as f:\n",
    "#     for line in f:\n",
    "#         data = json.loads(line)\n",
    "#         tweet = process_tweet(data)\n",
    "#         db.twitter.insert_one(tweet)"
   ]
  },
  {
   "cell_type": "code",
   "execution_count": 40,
   "metadata": {},
   "outputs": [],
   "source": [
    "# Load tweets from DB\n",
    "\n",
    "cursor = collection.find({})\n",
    "\n",
    "df = pd.DataFrame(list(cursor))\n",
    "\n",
    "df = df.drop('_id', axis=1)"
   ]
  },
  {
   "cell_type": "code",
   "execution_count": 42,
   "metadata": {},
   "outputs": [],
   "source": [
    "# Load the bot classification model\n",
    "\n",
    "import pickle\n",
    "\n",
    "with open('model.pkl', 'rb') as f:\n",
    "    clf = pickle.load(f)"
   ]
  },
  {
   "cell_type": "code",
   "execution_count": 60,
   "metadata": {},
   "outputs": [],
   "source": [
    "# Use the model to get the predictions\n",
    "\n",
    "preds = clf.predict(df)"
   ]
  },
  {
   "cell_type": "code",
   "execution_count": 69,
   "metadata": {},
   "outputs": [
    {
     "name": "stdout",
     "output_type": "stream",
     "text": [
      "Positive count:  633358\n",
      "Negative count:  23949\n"
     ]
    }
   ],
   "source": [
    "# Check classification results\n",
    "\n",
    "unique, counts = np.unique(preds, return_counts=True)\n",
    "\n",
    "positive_count = counts[1]\n",
    "negative_count = counts[0]\n",
    "\n",
    "print(\"Positive count: \", positive_count)\n",
    "print(\"Negative count: \", negative_count)"
   ]
  },
  {
   "cell_type": "code",
   "execution_count": null,
   "metadata": {
    "scrolled": false
   },
   "outputs": [],
   "source": [
    "from kafka import KafkaProducer\n",
    "\n",
    "KAFKA_TOPIC = 'tweet_stream'\n",
    "\n",
    "producer = KafkaProducer(value_serializer=lambda v: json.dumps(v).encode('utf-8'),\n",
    "                         bootstrap_servers=['localhost:9092'], batch_size=500)\n",
    "\n",
    "# Must send bytes\n",
    "messages = df.iloc[:100000]\n",
    "\n",
    "# Send the messages\n",
    "for m in messages.iterrows():\n",
    "    producer.send(KAFKA_TOPIC, m[1].to_json())"
   ]
  },
  {
   "cell_type": "code",
   "execution_count": null,
   "metadata": {
    "collapsed": true
   },
   "outputs": [],
   "source": []
  }
 ],
 "metadata": {
  "kernelspec": {
   "display_name": "Python 3",
   "language": "python",
   "name": "python3"
  },
  "language_info": {
   "codemirror_mode": {
    "name": "ipython",
    "version": 3
   },
   "file_extension": ".py",
   "mimetype": "text/x-python",
   "name": "python",
   "nbconvert_exporter": "python",
   "pygments_lexer": "ipython3",
   "version": "3.6.3"
  }
 },
 "nbformat": 4,
 "nbformat_minor": 2
}
